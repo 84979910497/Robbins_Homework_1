{
 "cells": [
  {
   "cell_type": "code",
   "execution_count": 106,
   "id": "c4f93ad7",
   "metadata": {},
   "outputs": [],
   "source": [
    "#Module 3 Robbins HW3\n",
    "import os\n",
    "import csv"
   ]
  },
  {
   "cell_type": "code",
   "execution_count": 107,
   "id": "a09279d3",
   "metadata": {},
   "outputs": [],
   "source": [
    "#Path for Resource & Text file\n",
    "csvpath = \"Resources/budget_data.csv\"\n",
    "txtpath = \"Analysis\", \"budget_analysis.txt\""
   ]
  },
  {
   "cell_type": "code",
   "execution_count": 108,
   "id": "ce83669b",
   "metadata": {},
   "outputs": [],
   "source": [
    "#Set Variables\n",
    "total_months = 0\n",
    "total_profit_loss = 0\n",
    "changes = []\n",
    "last_profit_loss = 0\n",
    "\n",
    "\n",
    "max_change = -9999999999\n",
    "min_change = 9999999999\n",
    "max_month = \"\"\n",
    "min_month = \"\""
   ]
  },
  {
   "cell_type": "code",
   "execution_count": 119,
   "id": "ec5eca24",
   "metadata": {},
   "outputs": [
    {
     "name": "stdout",
     "output_type": "stream",
     "text": [
      "CSV Header: ['Date', 'Profit/Losses']\n",
      "['Jan-10', '1088983']\n",
      "['Feb-10', '-354534']\n",
      "['Mar-10', '276622']\n",
      "['Apr-10', '-728133']\n",
      "['May-10', '852993']\n",
      "['Jun-10', '563721']\n",
      "['Jul-10', '-535208']\n",
      "['Aug-10', '632349']\n",
      "['Sep-10', '-173744']\n",
      "['Oct-10', '950741']\n",
      "['Nov-10', '-785750']\n",
      "['Dec-10', '-1194133']\n",
      "['Jan-11', '-589576']\n",
      "['Feb-11', '-883921']\n",
      "['Mar-11', '443564']\n",
      "['Apr-11', '837887']\n",
      "['May-11', '1081472']\n",
      "['Jun-11', '464033']\n",
      "['Jul-11', '-1066544']\n",
      "['Aug-11', '323846']\n",
      "['Sep-11', '-806551']\n",
      "['Oct-11', '487053']\n",
      "['Nov-11', '1128811']\n",
      "['Dec-11', '791398']\n",
      "['Jan-12', '739367']\n",
      "['Feb-12', '-197825']\n",
      "['Mar-12', '666016']\n",
      "['Apr-12', '589771']\n",
      "['May-12', '489290']\n",
      "['Jun-12', '-471439']\n",
      "['Jul-12', '120417']\n",
      "['Aug-12', '175347']\n",
      "['Sep-12', '855449']\n",
      "['Oct-12', '605195']\n",
      "['Nov-12', '-235220']\n",
      "['Dec-12', '347138']\n",
      "['Jan-13', '298510']\n",
      "['Feb-13', '163254']\n",
      "['Mar-13', '1141840']\n",
      "['Apr-13', '542630']\n",
      "['May-13', '99841']\n",
      "['Jun-13', '752765']\n",
      "['Jul-13', '-252949']\n",
      "['Aug-13', '914424']\n",
      "['Sep-13', '679524']\n",
      "['Oct-13', '514377']\n",
      "['Nov-13', '462102']\n",
      "['Dec-13', '159782']\n",
      "['Jan-14', '878810']\n",
      "['Feb-14', '-946748']\n",
      "['Mar-14', '340335']\n",
      "['Apr-14', '292032']\n",
      "['May-14', '502266']\n",
      "['Jun-14', '265852']\n",
      "['Jul-14', '851017']\n",
      "['Aug-14', '-549615']\n",
      "['Sep-14', '290162']\n",
      "['Oct-14', '755391']\n",
      "['Nov-14', '1073202']\n",
      "['Dec-14', '313000']\n",
      "['Jan-15', '241132']\n",
      "['Feb-15', '1036589']\n",
      "['Mar-15', '853904']\n",
      "['Apr-15', '-388932']\n",
      "['May-15', '982952']\n",
      "['Jun-15', '537759']\n",
      "['Jul-15', '547784']\n",
      "['Aug-15', '-496214']\n",
      "['Sep-15', '854181']\n",
      "['Oct-15', '934719']\n",
      "['Nov-15', '-288531']\n",
      "['Dec-15', '-184383']\n",
      "['Jan-16', '659541']\n",
      "['Feb-16', '-1149123']\n",
      "['Mar-16', '355882']\n",
      "['Apr-16', '662284']\n",
      "['May-16', '518681']\n",
      "['Jun-16', '-748256']\n",
      "['Jul-16', '-910775']\n",
      "['Aug-16', '951227']\n",
      "['Sep-16', '898241']\n",
      "['Oct-16', '-729004']\n",
      "['Nov-16', '-112209']\n",
      "['Dec-16', '516313']\n",
      "['Jan-17', '607208']\n",
      "['Feb-17', '382539']\n"
     ]
    }
   ],
   "source": [
    "#Open the CSV using the UTF-8 encoding\n",
    "with open(csvpath, encoding='UTF-8') as csvfile:\n",
    "    csvreader = csv.reader(csvfile, delimiter=\",\")\n",
    "    \n",
    "    #Read the Header row first (Skip if no Header)\n",
    "    csv_header =next(csvreader)\n",
    "    print(f\"CSV Header: {csv_header}\")\n",
    "    \n",
    "    #Read each row of data after the Header\n",
    "    for row in csvreader:\n",
    "        print(row)\n",
    "        \n",
    "        #Changes for P/L\n",
    "        #if no P/L change 1st row, let last_profit_loss or x = 0\n",
    "        #else, Calculate the P/L change amount\n",
    "        \n",
    "        if total_months != 0:\n",
    "            change = int(row[1]) - last_profit_loss\n",
    "            changes.append(change)\n",
    "            \n",
    "            #Check/Locate the max/min(change)\n",
    "            if change > max_change:\n",
    "                max_change = change\n",
    "                max_month = row[0]\n",
    "            elif change < min_change:\n",
    "                min_change = change\n",
    "                min_month = row[0]\n",
    "            else:\n",
    "                pass # leave unchanged and proceed to locate range of values\n",
    "           \n",
    "        \n",
    "            #Calculate the amount with previous month\n",
    "            last_profit_loss = int(row[1])\n",
    "            \n",
    "            #Add one(1) to total month \n",
    "            total_months = total_months + 1\n",
    "            \n",
    "            #Sum of P/L\n",
    "            total_profit_loss = total_profit_loss + int(row[1])\n",
    "                 "
   ]
  },
  {
   "cell_type": "code",
   "execution_count": 120,
   "id": "698a911a",
   "metadata": {},
   "outputs": [
    {
     "ename": "ZeroDivisionError",
     "evalue": "division by zero",
     "output_type": "error",
     "traceback": [
      "\u001b[0;31m---------------------------------------------------------------------------\u001b[0m",
      "\u001b[0;31mZeroDivisionError\u001b[0m                         Traceback (most recent call last)",
      "Cell \u001b[0;32mIn[120], line 2\u001b[0m\n\u001b[1;32m      1\u001b[0m \u001b[38;5;66;03m#Average\u001b[39;00m\n\u001b[0;32m----> 2\u001b[0m avg_change \u001b[38;5;241m=\u001b[39m \u001b[38;5;28;43msum\u001b[39;49m\u001b[43m(\u001b[49m\u001b[43mchanges\u001b[49m\u001b[43m)\u001b[49m\u001b[43m \u001b[49m\u001b[38;5;241;43m/\u001b[39;49m\u001b[43m \u001b[49m\u001b[38;5;28;43mlen\u001b[39;49m\u001b[43m(\u001b[49m\u001b[43mchanges\u001b[49m\u001b[43m)\u001b[49m\n\u001b[1;32m      3\u001b[0m \u001b[38;5;28mprint\u001b[39m(avg_change)\n",
      "\u001b[0;31mZeroDivisionError\u001b[0m: division by zero"
     ]
    }
   ],
   "source": [
    "#Average\n",
    "avg_change = sum(changes) / len(changes)\n",
    "print(avg_change)"
   ]
  },
  {
   "cell_type": "code",
   "execution_count": 121,
   "id": "7b2d3808",
   "metadata": {},
   "outputs": [
    {
     "name": "stdout",
     "output_type": "stream",
     "text": [
      "0\n",
      "0\n",
      "-9999999999\n",
      "\n",
      "9999999999\n",
      "\n",
      "0.0\n"
     ]
    }
   ],
   "source": [
    "#Show all six(6) KPIs\n",
    "print(total_months)\n",
    "print(total_profit_loss)\n",
    "print(max_change)\n",
    "print(max_month)\n",
    "print(min_change)\n",
    "print(min_month)\n",
    "print(avg_change)"
   ]
  },
  {
   "cell_type": "code",
   "execution_count": 122,
   "id": "a5ca0119",
   "metadata": {},
   "outputs": [
    {
     "name": "stdout",
     "output_type": "stream",
     "text": [
      "\n",
      "Financial Analysis\n",
      "__________________\n",
      "Total Months: 0\n",
      "Total: $0\n",
      "Average Change: $0.0\n",
      "Greatest Increase Profits:  ($-9999999999)\n",
      "Greatest Decrease Profits:  ($9999999999)\n"
     ]
    }
   ],
   "source": [
    "#Create Output\n",
    "with open (\"output_Robbins.txt\", \"w\") as txt_file:\n",
    "    output = f\"\"\"\n",
    "Financial Analysis\n",
    "__________________\n",
    "Total Months: {total_months}\n",
    "Total: ${total_profit_loss}\n",
    "Average Change: ${round(avg_change, 2)}\n",
    "Greatest Increase Profits: {max_month} (${max_change})\n",
    "Greatest Decrease Profits: {min_month} (${min_change})\"\"\"\n",
    "    \n",
    "    print(output)\n",
    "    txt_file.write(output)\n",
    "\n"
   ]
  },
  {
   "cell_type": "code",
   "execution_count": null,
   "id": "461ca3d8",
   "metadata": {},
   "outputs": [],
   "source": [
    "#Your task is to create a Python script that analyzes the records to calculate each of the following values:\n",
    "--The total number of months included in the dataset: 87\n",
    "--The net total amount of \"Profit/Losses\" over the entire period: $23711815\n",
    "--The changes in \"Profit/Losses\" over the entire period, and then the average of those changes: $0.0\n",
    "--The greatest increase in profits (date and amount) over the entire period: Aug-16 ($1862002)\n",
    "--The greatest decrease in profits (date and amount) over the entire period: Feb-14 ($-1825558)\n"
   ]
  }
 ],
 "metadata": {
  "kernelspec": {
   "display_name": "Python 3 (ipykernel)",
   "language": "python",
   "name": "python3"
  },
  "language_info": {
   "codemirror_mode": {
    "name": "ipython",
    "version": 3
   },
   "file_extension": ".py",
   "mimetype": "text/x-python",
   "name": "python",
   "nbconvert_exporter": "python",
   "pygments_lexer": "ipython3",
   "version": "3.10.13"
  }
 },
 "nbformat": 4,
 "nbformat_minor": 5
}
