{
 "cells": [
  {
   "cell_type": "code",
   "execution_count": 29,
   "id": "abf23ff1",
   "metadata": {},
   "outputs": [],
   "source": [
    "#Module #3 Part 2 Robbins\n",
    "import os\n",
    "import csv"
   ]
  },
  {
   "cell_type": "code",
   "execution_count": 30,
   "id": "f5e34c15",
   "metadata": {},
   "outputs": [],
   "source": [
    "#Path for file\n",
    "csvpath = \"Resources/election_data.csv\"\n",
    "txtpath = \"Analysis/Robbins_output_2.txt\""
   ]
  },
  {
   "cell_type": "code",
   "execution_count": 31,
   "id": "a6aacfa6",
   "metadata": {},
   "outputs": [],
   "source": [
    "#Set Variables\n",
    "total_votes = 0\n",
    "cand_dict = {}"
   ]
  },
  {
   "cell_type": "code",
   "execution_count": 32,
   "id": "ad10530c",
   "metadata": {},
   "outputs": [
    {
     "name": "stderr",
     "output_type": "stream",
     "text": [
      "IOPub data rate exceeded.\n",
      "The notebook server will temporarily stop sending output\n",
      "to the client in order to avoid crashing it.\n",
      "To change this limit, set the config variable\n",
      "`--NotebookApp.iopub_data_rate_limit`.\n",
      "\n",
      "Current values:\n",
      "NotebookApp.iopub_data_rate_limit=1000000.0 (bytes/sec)\n",
      "NotebookApp.rate_limit_window=3.0 (secs)\n",
      "\n"
     ]
    }
   ],
   "source": [
    "#Open CSV file \n",
    "with open(csvpath, encoding='UTF-8') as csvfile:\n",
    "    csvreader = csv.reader(csvfile, delimiter=\",\")\n",
    "    \n",
    "    #Read 1st row Header(skip if no Header)\n",
    "    csv_header =next(csvreader)\n",
    "    print(f\"CSV Header: {csv_header}\")\n",
    "    \n",
    "    #Read data after header\n",
    "    for row in csvreader:\n",
    "        print(row)\n",
    "        \n",
    "        #Add one(1) to total votes\n",
    "        total_votes = total_votes + 1\n",
    "        \n",
    "        #Candidates\n",
    "        #if candidate in dict. then + 1 to vote received\n",
    "        #else, + candidate to dict.  with a value of 1\n",
    "        candidate = row[2]\n",
    "        \n",
    "        if candidate in cand_dict.keys():\n",
    "            cand_dict[candidate] += 1\n",
    "            \n",
    "        else:\n",
    "            cand_dict[candidate] = 1"
   ]
  },
  {
   "cell_type": "code",
   "execution_count": 33,
   "id": "98ae926c",
   "metadata": {},
   "outputs": [
    {
     "name": "stdout",
     "output_type": "stream",
     "text": [
      "369711\n"
     ]
    }
   ],
   "source": [
    "print(total_votes)"
   ]
  },
  {
   "cell_type": "code",
   "execution_count": 34,
   "id": "2d82a6c8",
   "metadata": {},
   "outputs": [
    {
     "name": "stdout",
     "output_type": "stream",
     "text": [
      "{'Charles Casper Stockham': 85213, 'Diana DeGette': 272892, 'Raymon Anthony Doane': 11606}\n"
     ]
    }
   ],
   "source": [
    "print(cand_dict)"
   ]
  },
  {
   "cell_type": "code",
   "execution_count": 35,
   "id": "e1c1df06",
   "metadata": {},
   "outputs": [
    {
     "name": "stdout",
     "output_type": "stream",
     "text": [
      "Charles Casper Stockham\n",
      "85213\n",
      "Diana DeGette\n",
      "272892\n"
     ]
    }
   ],
   "source": [
    "#Start Variable\n",
    "#winning_votes\n",
    "#loop_candidate\n",
    "#winning_candidate\n",
    "\n",
    "winning_votes = 0\n",
    "winning_candidate = \"\"\n",
    "output = f\"\"\n",
    "\n",
    "for cand in cand_dict.keys():\n",
    "    votes = cand_dict[cand]\n",
    "    \n",
    "    #Check if more votes for other candidate\n",
    "    if votes > winning_votes:\n",
    "        winning_votes = votes\n",
    "        winning_candidate = cand\n",
    "        \n",
    "        print(winning_candidate)\n",
    "        print(winning_votes)\n",
    "        \n",
    "        \n"
   ]
  },
  {
   "cell_type": "code",
   "execution_count": 36,
   "id": "fb4041ab",
   "metadata": {},
   "outputs": [],
   "source": [
    "    for key in cand_dict.keys():\n",
    "        perc = round(100* cand_dict[key]/total_votes, 3)\n",
    "        newline = f\"{key}: {perc}% ({cand_dict[key]})\""
   ]
  },
  {
   "cell_type": "code",
   "execution_count": 53,
   "id": "4142fb4c",
   "metadata": {},
   "outputs": [
    {
     "name": "stdout",
     "output_type": "stream",
     "text": [
      "369711\n",
      "{'Charles Casper Stockham': 85213, 'Diana DeGette': 272892, 'Raymon Anthony Doane': 11606}\n",
      "Diana DeGette\n",
      "272892\n",
      "3.139\n"
     ]
    }
   ],
   "source": [
    "#Show all KPIs'print \n",
    "print(total_votes)\n",
    "print(cand_dict)\n",
    "print(winning_candidate)\n",
    "print(winning_votes)\n",
    "print(perc)"
   ]
  },
  {
   "cell_type": "code",
   "execution_count": 72,
   "id": "11db5534",
   "metadata": {},
   "outputs": [
    {
     "name": "stdout",
     "output_type": "stream",
     "text": [
      "Election Data___________________________Total_votes: 369711Candidate_dictionary: {'Charles Casper Stockham': 85213, 'Diana DeGette': 272892, 'Raymon Anthony Doane': 11606}Election_Winner: ('Diana DeGette', 272892)Diana DeGette: (27289200, 272892, 3.139, 11606)Raymon Anthony Doane: (27289200, 272892, 3.139, 11606)Charles Casper Stockham: (27289200, 272892, 3.139, 11606)\n"
     ]
    }
   ],
   "source": [
    "#Print results of election analysis dataset and add to txtfile\n",
    "with open(txtpath, encoding='UTF=8', mode= \"w\") as txtfile:\n",
    "    output= (\n",
    "    f\"Election Data\"\n",
    "    f\"___________________________\"\n",
    "    f\"Total_votes: {total_votes}\"\n",
    "    f\"Candidate_dictionary: {cand_dict}\"\n",
    "    f\"Election_Winner: {winning_candidate, winning_votes}\"\n",
    "    f\"Diana DeGette: {winning_votes*100, winning_votes, perc,cand_dict[cand]}\"\n",
    "    f\"Raymon Anthony Doane: {winning_votes*100, winning_votes, perc,cand_dict[cand]}\"\n",
    "    f\"Charles Casper Stockham: {winning_votes*100, winning_votes, perc,cand_dict[cand]}\" )\n",
    " \n",
    "\n",
    "    \n",
    "    print(output)\n",
    "    txtfile.write(output)"
   ]
  },
  {
   "cell_type": "code",
   "execution_count": null,
   "id": "c2d1cf80",
   "metadata": {},
   "outputs": [],
   "source": [
    "#The total number of votes cast: 369711\n",
    "#A complete list of candidates who received votes: line [7]\n",
    "#The percentage of votes each candidate won: \n",
    "#The total number of votes each candidate won: \n",
    "#The winner of the election based on popular vote: Charles Casper Stockham "
   ]
  }
 ],
 "metadata": {
  "kernelspec": {
   "display_name": "Python 3 (ipykernel)",
   "language": "python",
   "name": "python3"
  },
  "language_info": {
   "codemirror_mode": {
    "name": "ipython",
    "version": 3
   },
   "file_extension": ".py",
   "mimetype": "text/x-python",
   "name": "python",
   "nbconvert_exporter": "python",
   "pygments_lexer": "ipython3",
   "version": "3.10.13"
  }
 },
 "nbformat": 4,
 "nbformat_minor": 5
}
